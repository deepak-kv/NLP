{
 "cells": [
  {
   "cell_type": "markdown",
   "metadata": {},
   "source": [
    "# Loading SBERT Model"
   ]
  },
  {
   "cell_type": "code",
   "execution_count": null,
   "metadata": {},
   "outputs": [],
   "source": [
    "from sentence_transformers import SentenceTransformer\n",
    "\n",
    "# Load pre-trained SBERT model\n",
    "model = SentenceTransformer('all-MiniLM-L6-v2')\n",
    "\n",
    "print(\"Model loaded successfully!\")\n"
   ]
  },
  {
   "cell_type": "markdown",
   "metadata": {},
   "source": [
    "# Encoding Sentences into Vectors"
   ]
  },
  {
   "cell_type": "code",
   "execution_count": 9,
   "metadata": {},
   "outputs": [
    {
     "name": "stdout",
     "output_type": "stream",
     "text": [
      "Dataset size: 10 sentences\n",
      "Embedding shape: (10, 384)\n"
     ]
    }
   ],
   "source": [
    "dataset = [\n",
    "    \"The cat sits on the mat.\",\n",
    "    \"A dog is running in the park.\",\n",
    "    \"The sun is shining brightly.\",\n",
    "    \"A young kitten plays with a ball of yarn.\",\n",
    "    \"I love eating ice cream in summer.\",\n",
    "    \"Machine learning is transforming industries.\",\n",
    "    \"The Eiffel Tower is a popular tourist attraction.\",\n",
    "    \"Neural networks are the backbone of deep learning.\",\n",
    "    \"She enjoys reading science fiction books.\",\n",
    "    \"The football match was exciting to watch.\"\n",
    "]\n",
    "\n",
    "# Encode all sentences into embeddings\n",
    "sentence_embeddings = model.encode(dataset)\n",
    "\n",
    "print(f\"Dataset size: {len(dataset)} sentences\")\n",
    "print(f\"Embedding shape: {sentence_embeddings.shape}\")  # (10, 384)\n"
   ]
  },
  {
   "cell_type": "markdown",
   "metadata": {},
   "source": [
    "# Encode a Query Sentence"
   ]
  },
  {
   "cell_type": "code",
   "execution_count": 10,
   "metadata": {},
   "outputs": [
    {
     "name": "stdout",
     "output_type": "stream",
     "text": [
      "Query Embedding Shape: (1, 384)\n"
     ]
    }
   ],
   "source": [
    "query = \"Deep learning is a key AI technology.\"\n",
    "query_embedding = model.encode([query])\n",
    "\n",
    "print(\"Query Embedding Shape:\", query_embedding.shape)  # (1, 384)\n"
   ]
  },
  {
   "cell_type": "markdown",
   "metadata": {},
   "source": [
    "# Find the Most Similar Sentences"
   ]
  },
  {
   "cell_type": "code",
   "execution_count": 19,
   "metadata": {},
   "outputs": [
    {
     "name": "stdout",
     "output_type": "stream",
     "text": [
      " Query : Deep learning is a key AI technology.\n",
      "Most similar sentences \n",
      " Similar sentence 7 : Neural networks are the backbone of deep learning.\n",
      " Similar sentence 5 : Machine learning is transforming industries.\n",
      " Similar sentence 8 : She enjoys reading science fiction books.\n"
     ]
    }
   ],
   "source": [
    "from sklearn.metrics.pairwise import cosine_similarity\n",
    "\n",
    "# Compute cosine similarity between query and dataset\n",
    "similarities = cosine_similarity(query_embedding, sentence_embeddings)[0]\n",
    "topk = 3\n",
    "topindices = similarities.argsort()[::-1][:topk]\n",
    "\n",
    "print (f\" Query : {query}\")\n",
    "print (\"Most similar sentences \")\n",
    "for idx in topindices:\n",
    "    print (f\" Similar sentence {idx} : {dataset[idx]}\")"
   ]
  },
  {
   "cell_type": "markdown",
   "metadata": {},
   "source": [
    "# Using FAISS for Large-Scale Retrieval"
   ]
  },
  {
   "cell_type": "code",
   "execution_count": 18,
   "metadata": {},
   "outputs": [
    {
     "name": "stdout",
     "output_type": "stream",
     "text": [
      " Query : Deep learning is a key AI technology.\n",
      "Most similar sentences \n",
      " Similar sentence 7 : Neural networks are the backbone of deep learning.\n",
      " Similar sentence 5 : Machine learning is transforming industries.\n",
      " Similar sentence 8 : She enjoys reading science fiction books.\n"
     ]
    }
   ],
   "source": [
    "import faiss\n",
    "import numpy as np\n",
    "\n",
    "# Convert embeddings to FAISS index format\n",
    "sentence_embeddings = np.array(sentence_embeddings).astype('float32')\n",
    "query_embedding = np.array(query_embedding).astype('float32')\n",
    "\n",
    "\n",
    "\n",
    "# Create a FAISS index\n",
    "index = faiss.IndexFlatL2(sentence_embeddings.shape[1])  # L2 (Euclidean) distance index\n",
    "index.add(sentence_embeddings)  # Add dataset embeddings\n",
    "\n",
    "# Search for the top-3 most similar sentences\n",
    "D, I = index.search(query_embedding, topk)\n",
    "\n",
    "print (f\" Query : {query}\")\n",
    "print (\"Most similar sentences \")\n",
    "for idx in I[0]:\n",
    "    print (f\" Similar sentence {idx} : {dataset[idx]}\")"
   ]
  },
  {
   "cell_type": "code",
   "execution_count": null,
   "metadata": {},
   "outputs": [],
   "source": []
  }
 ],
 "metadata": {
  "kernelspec": {
   "display_name": "myenv",
   "language": "python",
   "name": "python3"
  },
  "language_info": {
   "codemirror_mode": {
    "name": "ipython",
    "version": 3
   },
   "file_extension": ".py",
   "mimetype": "text/x-python",
   "name": "python",
   "nbconvert_exporter": "python",
   "pygments_lexer": "ipython3",
   "version": "3.9.21"
  }
 },
 "nbformat": 4,
 "nbformat_minor": 2
}
